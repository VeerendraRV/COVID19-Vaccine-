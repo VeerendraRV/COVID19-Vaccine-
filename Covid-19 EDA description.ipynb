{
 "cells": [
  {
   "cell_type": "raw",
   "metadata": {},
   "source": [
    "Description:\n",
    "    \n",
    "Covid-19 vaccine data from all the states and union territories of india as on june 2,2021. \n",
    "The data is web scrapped from the government websites.\n",
    "\n",
    "State/UTs - Names of States and Union territiries of India\n",
    "Dose 1 - Number of first dose of vaccine given\n",
    "Dose 2 - Number of second dose of vaccine given\n",
    "Total Vaccination Doses - Total number of vaccine given\n",
    "\n"
   ]
  }
 ],
 "metadata": {
  "kernelspec": {
   "display_name": "Python 3",
   "language": "python",
   "name": "python3"
  },
  "language_info": {
   "codemirror_mode": {
    "name": "ipython",
    "version": 3
   },
   "file_extension": ".py",
   "mimetype": "text/x-python",
   "name": "python",
   "nbconvert_exporter": "python",
   "pygments_lexer": "ipython3",
   "version": "3.8.5"
  }
 },
 "nbformat": 4,
 "nbformat_minor": 4
}
